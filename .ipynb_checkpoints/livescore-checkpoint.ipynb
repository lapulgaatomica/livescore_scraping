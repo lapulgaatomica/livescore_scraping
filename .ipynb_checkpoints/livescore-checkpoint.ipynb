{
 "cells": [
  {
   "cell_type": "code",
   "execution_count": 3,
   "metadata": {},
   "outputs": [],
   "source": [
    "import pandas as pd\n",
    "import json\n",
    "import requests\n",
    "from bs4 import BeautifulSoup"
   ]
  },
  {
   "cell_type": "code",
   "execution_count": 4,
   "metadata": {},
   "outputs": [],
   "source": [
    "england = requests.get('http://www.livescores.com/soccer/england/premier-league/')\n",
    "spain = requests.get('http://www.livescores.com/soccer/spain/primera-division/')\n",
    "france = requests.get('http://www.livescores.com/soccer/france/ligue-1/')\n",
    "italy = requests.get('http://www.livescores.com/soccer/italy/serie-a/')\n",
    "germany = requests.get('http://www.livescores.com/soccer/germany/bundesliga/')"
   ]
  },
  {
   "cell_type": "code",
   "execution_count": 14,
   "metadata": {},
   "outputs": [],
   "source": [
    "def get_team_stats(country):\n",
    "    soup = BeautifulSoup(country.text, 'lxml')\n",
    "    league_soup = soup.find(\"div\", {\"class\":\"ltable table\"})\n",
    "    \n",
    "    teams = league_soup.find_all(\"div\", {\"class\":\"team\"})\n",
    "    stats = league_soup.find_all(\"div\", {\"class\":\"pts\"})\n",
    "    \n",
    "    return {'teams': teams, 'stats': stats}\n",
    "\n",
    "\n",
    "def get_ordered_stats(country):\n",
    "    unordered_stats = get_team_stats(country)\n",
    "    \n",
    "    teams = unordered_stats['teams']\n",
    "    stats = unordered_stats['stats']\n",
    "    \n",
    "    team_names = []\n",
    "    all_stats_ungrouped = []\n",
    "    all_stats_grouped = []\n",
    "\n",
    "    [team_names.append(team.text) for team in teams]\n",
    "    [all_stats_ungrouped.append(stat.text) for stat in stats]\n",
    "    [all_stats_grouped.append(all_stats_ungrouped[i : i + 8]) for i in range(0, len(all_stats_ungrouped), 8)]\n",
    "\n",
    "    columns = [team_names.pop(0)] + all_stats_grouped.pop(0)\n",
    "\n",
    "    [all_stats_grouped[i].insert(0, team_names[i]) for i in range(len(all_stats_grouped))]\n",
    "\n",
    "    table = pd.DataFrame(all_stats_grouped, columns=columns, index=range(1, len(all_stats_grouped) + 1))\n",
    "    convert_dict = {'P':int,'W':int,'D':int, 'L':int, 'F':int,'A':int,'GD':int, 'Pts':int}\n",
    "    table = table.astype(convert_dict)\n",
    "    return table\n",
    "    \n",
    "epl = get_ordered_stats(england)\n",
    "la_liga = get_ordered_stats(spain)\n",
    "ligue_one = get_ordered_stats(france)\n",
    "bundesliga = get_ordered_stats(germany)\n",
    "serie_a = get_ordered_stats(italy)"
   ]
  },
  {
   "cell_type": "code",
   "execution_count": 17,
   "metadata": {},
   "outputs": [],
   "source": [
    "combined_table = pd.concat([epl, la_liga, ligue_one, bundesliga, serie_a], axis=0)\n",
    "combined_table = combined_table.sort_values(by=['Pts', 'GD', 'P'], ascending=[False, False, True])\n",
    "combined_table.index = range(1, len(combined_table) + 1)"
   ]
  },
  {
   "cell_type": "code",
   "execution_count": 18,
   "metadata": {},
   "outputs": [],
   "source": [
    "with pd.ExcelWriter('tables.xlsx') as writer:\n",
    "    epl.to_excel(writer, sheet_name='England')\n",
    "    la_liga.to_excel(writer, sheet_name='Spain')\n",
    "    ligue_one.to_excel(writer, sheet_name='France')\n",
    "    bundesliga.to_excel(writer, sheet_name='Germany')\n",
    "    serie_a.to_excel(writer, sheet_name='Italy')\n",
    "    combined_table.to_excel(writer, sheet_name='Combined')"
   ]
  }
 ],
 "metadata": {
  "kernelspec": {
   "display_name": "Python 3",
   "language": "python",
   "name": "python3"
  },
  "language_info": {
   "codemirror_mode": {
    "name": "ipython",
    "version": 3
   },
   "file_extension": ".py",
   "mimetype": "text/x-python",
   "name": "python",
   "nbconvert_exporter": "python",
   "pygments_lexer": "ipython3",
   "version": "3.7.4"
  }
 },
 "nbformat": 4,
 "nbformat_minor": 2
}
